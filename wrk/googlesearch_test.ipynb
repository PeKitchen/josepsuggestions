{
  "nbformat": 4,
  "nbformat_minor": 0,
  "metadata": {
    "colab": {
      "name": "googlesearch_test.ipynb",
      "provenance": [],
      "collapsed_sections": []
    },
    "kernelspec": {
      "name": "python3",
      "display_name": "Python 3"
    },
    "language_info": {
      "name": "python"
    }
  },
  "cells": [
    {
      "cell_type": "code",
      "metadata": {
        "id": "ZQTOCxY9BRDH"
      },
      "source": [
        "import requests\n",
        "import html5lib\n",
        "from bs4 import BeautifulSoup\n",
        "from googlesearch import search\n",
        "import urllib"
      ],
      "execution_count": 28,
      "outputs": []
    },
    {
      "cell_type": "code",
      "metadata": {
        "colab": {
          "base_uri": "https://localhost:8080/"
        },
        "id": "RYWMHPD_AyyE",
        "outputId": "26f421c2-3a5f-4cc2-915a-fd18ea5977df"
      },
      "source": [
        "query = 'Bacán+Campanet'\n",
        "for i in search(query, tld='es', lang='es', stop=10, pause=2.0):\n",
        "  print(i)"
      ],
      "execution_count": 2,
      "outputs": [
        {
          "output_type": "stream",
          "text": [
            "https://bacanpizzasdeautor.com/\n",
            "https://bacanpizzasdeautor.com/carta/\n",
            "https://bacanpizzasdeautor.com/nuestra-historia/\n",
            "https://bacanpizzasdeautor.com/obrador/\n",
            "https://www.tripadvisor.es/Restaurant_Review-g1068165-d17854042-Reviews-Bacan_Pizzas_de_Autor-Campanet_Majorca_Balearic_Islands.html\n",
            "https://www.facebook.com/bacanpizzas\n",
            "https://es.restaurantguru.com/Bacan-Pizzas-de-Autor-Campanet\n",
            "https://www.instagram.com/bacanpizzas/?hl=es\n",
            "https://bacan-pizza-de-autor.negocio.site/\n",
            "https://jobtoday.com/es/company/pizzeria-de-autor-bacan-pizzas-de-autor-WM1zZ8\n"
          ],
          "name": "stdout"
        }
      ]
    },
    {
      "cell_type": "code",
      "metadata": {
        "id": "4DgkE8Q2LQ3I"
      },
      "source": [
        "def get_data(query):\n",
        "  '''\n",
        "  Function to return basic information of a restaurant given a query in Google.\n",
        "\n",
        "  Input:\n",
        "  - Query (string)\n",
        "\n",
        "  Output:\n",
        "  - Dictionary that contains the name, address, location, telephone, rating.  \n",
        "  '''\n",
        "\n",
        "  # Read the url and prepare it for scraping:\n",
        "  q = urllib.parse.quote_plus(query)\n",
        "  query_url = 'https://www.google.cat/search?hl=ca&q=' + q\n",
        "  r = requests.get(query_url)\n",
        "  soup = BeautifulSoup(r.text, 'html5lib')\n",
        "  r.close()\n",
        "  table = soup.find(\"div\", attrs = {\"id\": \"main\"})\n",
        "\n",
        "  # Create an empty dictionary:\n",
        "  dictionary = {}\n",
        "\n",
        "  # Get name: (to be improved; now it only works for single-name restaurants):\n",
        "  dictionary['Name'] = table.find(\"h3\", class_=\"zBAuLc\").text\n",
        "\n",
        "  # Get address and telephone number:\n",
        "  data1 = table.find_all(\"span\", class_=\"BNeawe tAd8D AP7Wnd\")\n",
        "  dictionary['Address'] = data1[0].text\n",
        "  dictionary['Tlf'] = data1[2].text\n",
        "\n",
        "  # Get location:\n",
        "  data2 = table.find_all(\"a\", class_=\"eZt8xd\")\n",
        "  for entry in data2:\n",
        "    if entry.text == 'Maps':\n",
        "      dictionary['Location'] = entry['href']\n",
        "\n",
        "  # Get rating:\n",
        "  data3 = table.find_all(\"div\", class_=\"Hk2yDb KsR1A\")\n",
        "  dictionary['Rating'] = data3[0]['aria-label']\n",
        "  # Alternative: just the number\n",
        "  # It always follows this formula: \"Valorat en x.x de x possibles\"\n",
        "  # dictionary['Rating'] =  data3[0]['aria-label'].split(' ')[2]\n",
        "\n",
        "  # Get restaurant type:\n",
        "  data4 = table.find_all(\"div\", class_=\"BNeawe tAd8D AP7Wnd\")\n",
        "  dictionary['Restaurant type'] = data4[0].text.split('\\n')[-1]\n",
        "\n",
        "  # Get website:\n",
        "  data5 = table.find_all(\"div\", class_=\"BNeawe UPmit AP7Wnd\")\n",
        "  # Search heuristic: give the first result (most likely to be the original website), \n",
        "  # as long as it is not a subpage from a larger platform (facebook, instagram, tripadvisor)\n",
        "  # If the first element is a subpage, just give the first link which is not.\n",
        "  for entry in data5:\n",
        "    if 'www' in entry.text:\n",
        "      if len(entry.text.split(' ')) <= 1 and len(entry.text.split('.')) <= 3:\n",
        "        dictionary['website'] = entry.text\n",
        "    else:\n",
        "      if len(entry.text.split(' ')) <= 1 and len(entry.text.split('.')) <= 2:\n",
        "        dictionary['website'] = entry.text\n",
        "\n",
        "  '''\n",
        "  Todo:\n",
        "  - dictionary['Hours'] (information not provided)\n",
        "  - dictionary['Image'] (information not provided)\n",
        "  - if the google search is not successful (this is, it returns a \"card\" with basic info on the right of the result page), it raises an error (there is no \"card\" to scrap)\n",
        "  '''\n",
        "\n",
        "  return dictionary"
      ],
      "execution_count": 136,
      "outputs": []
    },
    {
      "cell_type": "code",
      "metadata": {
        "colab": {
          "base_uri": "https://localhost:8080/"
        },
        "id": "s8_mehjEUhIs",
        "outputId": "4cfced99-0ea7-43a9-fb6d-f213f581de84"
      },
      "source": [
        "get_data('Miceli Selva')"
      ],
      "execution_count": 137,
      "outputs": [
        {
          "output_type": "execute_result",
          "data": {
            "text/plain": [
              "{'Address': 'Carrer dels Angels, 11, 07313 Selva, Illes Balears, Espanya',\n",
              " 'Location': 'https://maps.google.cat/maps?hl=ca&q=Miceli+Selva&um=1&ie=UTF-8&sa=X&ved=0ahUKEwiV3Y664vvwAhXsyYsBHb0yAUwQ_AUICSgC',\n",
              " 'Name': 'Miceli',\n",
              " 'Rating': 'Valorat en 4.8 de 5 possibles',\n",
              " 'Restaurant type': 'Restaurant',\n",
              " 'Tlf': '+34 971 87 37 84',\n",
              " 'website': 'www.miceli.es'}"
            ]
          },
          "metadata": {
            "tags": []
          },
          "execution_count": 137
        }
      ]
    },
    {
      "cell_type": "code",
      "metadata": {
        "colab": {
          "base_uri": "https://localhost:8080/"
        },
        "id": "MKT4KMKWmUkw",
        "outputId": "e4a860e3-ea80-4cc4-e228-07446aabb991"
      },
      "source": [
        "get_data('Bacán Campanet')"
      ],
      "execution_count": 138,
      "outputs": [
        {
          "output_type": "execute_result",
          "data": {
            "text/plain": [
              "{'Address': 'Plaça son Bordoy, 6, 07310 Campanet, Illes Balears, Espanya',\n",
              " 'Location': 'https://maps.google.cat/maps?hl=ca&q=Bac%C3%A1n+Campanet&um=1&ie=UTF-8&sa=X&ved=0ahUKEwiU_ae74vvwAhWKzIsBHQdVCGkQ_AUICCgB',\n",
              " 'Name': 'Bacán Pizzas de Autor',\n",
              " 'Rating': 'Valorat en 4.8 de 5 possibles',\n",
              " 'Restaurant type': 'Pizzeria',\n",
              " 'Tlf': '+34 640 80 96 08',\n",
              " 'website': 'bacanpizzasdeautor.com'}"
            ]
          },
          "metadata": {
            "tags": []
          },
          "execution_count": 138
        }
      ]
    },
    {
      "cell_type": "code",
      "metadata": {
        "colab": {
          "base_uri": "https://localhost:8080/"
        },
        "id": "wLgcfaQpUOcz",
        "outputId": "09d37bcc-1f4e-412d-ba3d-7517bfd01302"
      },
      "source": [
        "get_data('Skalop Inca')"
      ],
      "execution_count": 139,
      "outputs": [
        {
          "output_type": "execute_result",
          "data": {
            "text/plain": [
              "{'Address': 'Avinguda del General Luque, 434, 07300 Inca, Illes Balears, Espanya',\n",
              " 'Location': 'https://maps.google.cat/maps?hl=ca&q=Skalop+Inca&um=1&ie=UTF-8&sa=X&ved=0ahUKEwjn9dO84vvwAhUQwosBHa77Aa4Q_AUICCgB',\n",
              " 'Name': 'Restaurante Skalop Inca',\n",
              " 'Rating': 'Valorat en 3.7 de 5 possibles',\n",
              " 'Restaurant type': 'Restaurant',\n",
              " 'Tlf': '+34 971 88 19 19',\n",
              " 'website': 'www.skalop.com'}"
            ]
          },
          "metadata": {
            "tags": []
          },
          "execution_count": 139
        }
      ]
    },
    {
      "cell_type": "code",
      "metadata": {
        "colab": {
          "base_uri": "https://localhost:8080/"
        },
        "id": "62ELsVp7VY9d",
        "outputId": "d7fb8fbb-c6fb-4c2d-d4de-88ddb00f8123"
      },
      "source": [
        "get_data('Wasabi Blue Palma')"
      ],
      "execution_count": 140,
      "outputs": [
        {
          "output_type": "execute_result",
          "data": {
            "text/plain": [
              "{'Address': 'Carrer de Trafalgar, 41, 07007 Palma, Illes Balears, Espanya',\n",
              " 'Location': 'https://maps.google.cat/maps?hl=ca&q=Wasabi+Blue+Palma&um=1&ie=UTF-8&sa=X&ved=0ahUKEwitmtC94vvwAhWFNKYKHW7pDlEQ_AUICCgB',\n",
              " 'Name': 'Wasabi Blue',\n",
              " 'Rating': 'Valorat en 4.6 de 5 possibles',\n",
              " 'Restaurant type': 'Restaurant de cuina japonesa',\n",
              " 'Tlf': '+34 971 26 46 02',\n",
              " 'website': 'restauranteswasabi.com'}"
            ]
          },
          "metadata": {
            "tags": []
          },
          "execution_count": 140
        }
      ]
    },
    {
      "cell_type": "code",
      "metadata": {
        "id": "3ECocbhAk8-W"
      },
      "source": [
        "query = 'Wasabi Blue Palma'\n",
        "query_url = 'https://www.google.es/search?hl=ca&q=' + query\n",
        "r = requests.get(query_url)\n",
        "soup = BeautifulSoup(r.text, 'html5lib')\n",
        "table = soup.find(\"div\", attrs = {\"id\": \"main\"})\n",
        "a = table.find_all(\"div\", class_=\"BNeawe UPmit AP7Wnd\")\n",
        "# print(table.prettify())"
      ],
      "execution_count": 119,
      "outputs": []
    },
    {
      "cell_type": "code",
      "metadata": {
        "id": "ngBXEHlcdOh4"
      },
      "source": [
        ""
      ],
      "execution_count": null,
      "outputs": []
    }
  ]
}